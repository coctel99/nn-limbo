{
  "nbformat": 4,
  "nbformat_minor": 0,
  "metadata": {
    "accelerator": "GPU",
    "colab": {
      "name": "PyTorch_CNN.ipynb",
      "provenance": [],
      "collapsed_sections": []
    },
    "kernelspec": {
      "name": "python3",
      "display_name": "Python 3"
    },
    "language_info": {
      "codemirror_mode": {
        "name": "ipython",
        "version": 3
      },
      "file_extension": ".py",
      "mimetype": "text/x-python",
      "name": "python",
      "nbconvert_exporter": "python",
      "pygments_lexer": "ipython3",
      "version": "3.7.0"
    }
  },
  "cells": [
    {
      "cell_type": "markdown",
      "metadata": {
        "id": "dI2H5SX0UEZ3",
        "colab_type": "text"
      },
      "source": [
        "# Задание 3.2 - сверточные нейронные сети (CNNs) в PyTorch\n",
        "\n",
        "Это упражнение мы буде выполнять в Google Colab - https://colab.research.google.com/  \n",
        "Google Colab позволяет запускать код в notebook в облаке Google, где можно воспользоваться бесплатным GPU!  \n",
        "\n",
        "Авторы курса благодарят компанию Google и надеятся, что праздник не закончится.\n",
        "\n",
        "Туториал по настройке Google Colab:  \n",
        "https://medium.com/deep-learning-turkey/google-colab-free-gpu-tutorial-e113627b9f5d  \n",
        "(Keras инсталлировать не нужно, наш notebook сам установит PyTorch)\n"
      ]
    },
    {
      "cell_type": "code",
      "metadata": {
        "colab_type": "code",
        "id": "FcXBeP1O7cnY",
        "pycharm": {
          "is_executing": false
        },
        "outputId": "51be663f-2b64-41f1-c2ef-67431f1f4a98",
        "colab": {
          "base_uri": "https://localhost:8080/",
          "height": 323
        }
      },
      "source": [
        "# Intstall PyTorch and download data\n",
        "!pip3 install torch torchvision\n",
        "\n",
        "!wget -c http://ufldl.stanford.edu/housenumbers/train_32x32.mat http://ufldl.stanford.edu/housenumbers/test_32x32.mat"
      ],
      "execution_count": 24,
      "outputs": [
        {
          "output_type": "stream",
          "text": [
            "Requirement already satisfied: torch in /usr/local/lib/python3.6/dist-packages (1.4.0)\n",
            "Requirement already satisfied: torchvision in /usr/local/lib/python3.6/dist-packages (0.5.0)\n",
            "Requirement already satisfied: numpy in /usr/local/lib/python3.6/dist-packages (from torchvision) (1.17.5)\n",
            "Requirement already satisfied: six in /usr/local/lib/python3.6/dist-packages (from torchvision) (1.12.0)\n",
            "Requirement already satisfied: pillow>=4.1.1 in /usr/local/lib/python3.6/dist-packages (from torchvision) (6.2.2)\n",
            "--2020-03-12 17:44:54--  http://ufldl.stanford.edu/housenumbers/train_32x32.mat\n",
            "Resolving ufldl.stanford.edu (ufldl.stanford.edu)... 171.64.68.10\n",
            "Connecting to ufldl.stanford.edu (ufldl.stanford.edu)|171.64.68.10|:80... connected.\n",
            "HTTP request sent, awaiting response... 416 Requested Range Not Satisfiable\n",
            "\n",
            "    The file is already fully retrieved; nothing to do.\n",
            "\n",
            "--2020-03-12 17:44:55--  http://ufldl.stanford.edu/housenumbers/test_32x32.mat\n",
            "Reusing existing connection to ufldl.stanford.edu:80.\n",
            "HTTP request sent, awaiting response... 416 Requested Range Not Satisfiable\n",
            "\n",
            "    The file is already fully retrieved; nothing to do.\n",
            "\n"
          ],
          "name": "stdout"
        }
      ]
    },
    {
      "cell_type": "code",
      "metadata": {
        "colab_type": "code",
        "id": "-afwWw-Q85vD",
        "pycharm": {
          "is_executing": false
        },
        "colab": {}
      },
      "source": [
        "from collections import namedtuple\n",
        "\n",
        "import matplotlib.pyplot as plt\n",
        "import numpy as np\n",
        "import PIL\n",
        "import torch\n",
        "import torch.nn as nn\n",
        "import torch.optim as optim\n",
        "import torchvision.datasets as dset\n",
        "from torch.utils.data.sampler import SubsetRandomSampler\n",
        "\n",
        "from torchvision import transforms"
      ],
      "execution_count": 0,
      "outputs": []
    },
    {
      "cell_type": "code",
      "metadata": {
        "colab_type": "code",
        "id": "NNU-OD9O9ltP",
        "pycharm": {
          "is_executing": false
        },
        "colab": {}
      },
      "source": [
        "device = torch.device(\"cuda:0\") # Let's make sure GPU is available!"
      ],
      "execution_count": 0,
      "outputs": []
    },
    {
      "cell_type": "markdown",
      "metadata": {
        "id": "XDE7mTQAUEaE",
        "colab_type": "text"
      },
      "source": [
        "# Загружаем данные"
      ]
    },
    {
      "cell_type": "code",
      "metadata": {
        "colab_type": "code",
        "id": "YAvkoRx-9FsP",
        "pycharm": {
          "is_executing": false
        },
        "colab": {}
      },
      "source": [
        "# First, lets load the dataset\n",
        "data_train = dset.SVHN('./', \n",
        "                       transform=transforms.Compose([\n",
        "                           transforms.ToTensor(),\n",
        "                           transforms.Normalize(mean=[0.43,0.44,0.47],\n",
        "                                               std=[0.20,0.20,0.20])                           \n",
        "                       ])\n",
        "                      )\n",
        "data_test = dset.SVHN('./', split='test', transform=transforms.Compose([\n",
        "                           transforms.ToTensor(),\n",
        "                           transforms.Normalize(mean=[0.43,0.44,0.47],\n",
        "                                               std=[0.20,0.20,0.20])                           \n",
        "                       ]))"
      ],
      "execution_count": 0,
      "outputs": []
    },
    {
      "cell_type": "markdown",
      "metadata": {
        "id": "-QEJKeRyUEaI",
        "colab_type": "text"
      },
      "source": [
        "Разделяем данные на training и validation.\n",
        "\n",
        "На всякий случай для подробностей - https://pytorch.org/tutorials/beginner/data_loading_tutorial.html"
      ]
    },
    {
      "cell_type": "code",
      "metadata": {
        "colab_type": "code",
        "id": "YRnr8CPg7Hli",
        "pycharm": {
          "is_executing": false
        },
        "colab": {}
      },
      "source": [
        "batch_size = 64\n",
        "\n",
        "data_size = data_train.data.shape[0]\n",
        "validation_split = .2\n",
        "split = int(np.floor(validation_split * data_size))\n",
        "indices = list(range(data_size))\n",
        "np.random.shuffle(indices)\n",
        "\n",
        "train_indices, val_indices = indices[split:], indices[:split]\n",
        "\n",
        "train_sampler = SubsetRandomSampler(train_indices)\n",
        "val_sampler = SubsetRandomSampler(val_indices)\n",
        "\n",
        "train_loader = torch.utils.data.DataLoader(data_train, batch_size=batch_size, \n",
        "                                           sampler=train_sampler)\n",
        "val_loader = torch.utils.data.DataLoader(data_train, batch_size=batch_size,\n",
        "                                         sampler=val_sampler)"
      ],
      "execution_count": 0,
      "outputs": []
    },
    {
      "cell_type": "code",
      "metadata": {
        "colab_type": "code",
        "id": "LyYvt-T67PBG",
        "pycharm": {
          "is_executing": false
        },
        "colab": {}
      },
      "source": [
        "# We'll use a special helper module to shape it into a flat tensor\n",
        "class Flattener(nn.Module):\n",
        "    def forward(self, x):\n",
        "        batch_size, *_ = x.shape\n",
        "        return x.view(batch_size, -1)"
      ],
      "execution_count": 0,
      "outputs": []
    },
    {
      "cell_type": "markdown",
      "metadata": {
        "id": "mTb9kqFdUEaP",
        "colab_type": "text"
      },
      "source": [
        "Создадим простейшую сеть с новыми слоями:  \n",
        "Convolutional - `nn.Conv2d`  \n",
        "MaxPool - `nn.MaxPool2d`"
      ]
    },
    {
      "cell_type": "code",
      "metadata": {
        "colab_type": "code",
        "id": "w9SFVGZP7SQd",
        "pycharm": {
          "is_executing": false
        },
        "colab": {}
      },
      "source": [
        "nn_model = nn.Sequential(\n",
        "            nn.Conv2d(3, 64, 3, padding=1),\n",
        "            nn.ReLU(inplace=True),\n",
        "            nn.MaxPool2d(4),\n",
        "            nn.Conv2d(64, 64, 3, padding=1),\n",
        "            nn.ReLU(inplace=True),\n",
        "            nn.MaxPool2d(4),    \n",
        "            Flattener(),\n",
        "            nn.Linear(64*2*2, 10),\n",
        "          )\n",
        "\n",
        "nn_model.type(torch.cuda.FloatTensor)\n",
        "nn_model.to(device)\n",
        "\n",
        "loss = nn.CrossEntropyLoss().type(torch.cuda.FloatTensor)\n",
        "optimizer = optim.SGD(nn_model.parameters(), lr=1e-1, weight_decay=1e-4)"
      ],
      "execution_count": 0,
      "outputs": []
    },
    {
      "cell_type": "markdown",
      "metadata": {
        "id": "PzkTa67tUEaT",
        "colab_type": "text"
      },
      "source": [
        "Восстановите функцию `compute_accuracy` из прошлого задания.  \n",
        "Единственное отличие в новом - она должна передать данные на GPU прежде чем прогонять через модель. Сделайте это так же, как это делает функция `train_model`"
      ]
    },
    {
      "cell_type": "code",
      "metadata": {
        "colab_type": "code",
        "id": "2ek3KVQK7hJ6",
        "pycharm": {
          "is_executing": false
        },
        "outputId": "5a49099d-1833-419e-ebf1-dbed80cf58ea",
        "colab": {
          "base_uri": "https://localhost:8080/",
          "height": 102
        }
      },
      "source": [
        "def train_model(model, train_loader, val_loader, loss, optimizer, num_epochs):    \n",
        "    loss_history = []\n",
        "    train_history = []\n",
        "    val_history = []\n",
        "    for epoch in range(num_epochs):\n",
        "        model.train() # Enter train mode\n",
        "        \n",
        "        loss_accum = 0\n",
        "        correct_samples = 0\n",
        "        total_samples = 0\n",
        "        for i_step, (x, y) in enumerate(train_loader):\n",
        "          \n",
        "            x_gpu = x.to(device)\n",
        "            y_gpu = y.to(device)\n",
        "            prediction = model(x_gpu)    \n",
        "            loss_value = loss(prediction, y_gpu)\n",
        "            optimizer.zero_grad()\n",
        "            loss_value.backward()\n",
        "            optimizer.step()\n",
        "            \n",
        "            _, indices = torch.max(prediction, 1)\n",
        "            correct_samples += torch.sum(indices == y_gpu)\n",
        "            total_samples += y.shape[0]\n",
        "            \n",
        "            loss_accum += loss_value\n",
        "      \n",
        "        ave_loss = loss_accum / i_step\n",
        "        train_accuracy = float(correct_samples) / total_samples\n",
        "        val_accuracy = compute_accuracy(model, val_loader)\n",
        "        \n",
        "        loss_history.append(float(ave_loss))\n",
        "        train_history.append(train_accuracy)\n",
        "        val_history.append(val_accuracy)\n",
        "        \n",
        "        print(\"Average loss: %f, Train accuracy: %f, Val accuracy: %f\" % (ave_loss, train_accuracy, val_accuracy))\n",
        "        \n",
        "    return loss_history, train_history, val_history\n",
        "        \n",
        "def compute_accuracy(model, loader):\n",
        "    \"\"\"\n",
        "    Computes accuracy on the dataset wrapped in a loader\n",
        "    \n",
        "    Returns: accuracy as a float value between 0 and 1\n",
        "    \"\"\"\n",
        "    model.eval() # Evaluation mode\n",
        "    # TODO: Copy implementation from previous assignment\n",
        "    # Don't forget to move the data to device before running it through the model!\n",
        "    correct_samples = 0\n",
        "    total_samples = 0\n",
        "    for x, y in loader:\n",
        "      x_gpu = x.to(device)\n",
        "      y_gpu = y.to(device)\n",
        "\n",
        "      prediction = model(x_gpu)\n",
        "      \n",
        "      _, indices = torch.max(prediction, 1)\n",
        "      correct_samples += torch.sum(indices == y_gpu)\n",
        "      total_samples += y_gpu.shape[0]\n",
        "\n",
        "    if total_samples == 0:\n",
        "      accuracy = 0\n",
        "    else:\n",
        "      accuracy = float(correct_samples) / total_samples\n",
        "    \n",
        "    return accuracy\n",
        "\n",
        "loss_history, train_history, val_history = train_model(nn_model, train_loader, val_loader, loss, optimizer, 5)"
      ],
      "execution_count": 9,
      "outputs": [
        {
          "output_type": "stream",
          "text": [
            "Average loss: 1.396419, Train accuracy: 0.531601, Val accuracy: 0.761928\n",
            "Average loss: 0.706634, Train accuracy: 0.785636, Val accuracy: 0.804245\n",
            "Average loss: 0.605060, Train accuracy: 0.819251, Val accuracy: 0.820695\n",
            "Average loss: 0.556038, Train accuracy: 0.833788, Val accuracy: 0.761450\n",
            "Average loss: 0.521805, Train accuracy: 0.844845, Val accuracy: 0.848406\n"
          ],
          "name": "stdout"
        }
      ]
    },
    {
      "cell_type": "markdown",
      "metadata": {
        "colab_type": "text",
        "id": "6a-3a1ZFGEw_"
      },
      "source": [
        "# Аугментация данных (Data augmentation)\n",
        "\n",
        "В работе с изображениями одним из особенно важных методов является аугментация данных - то есть, генерация дополнительных данных для тренировки на основе изначальных.   \n",
        "Таким образом, мы получаем возможность \"увеличить\" набор данных для тренировки, что ведет к лучшей работе сети.\n",
        "Важно, чтобы аугментированные данные были похожи на те, которые могут встретиться в реальной жизни, иначе польза от аугментаций уменьшается и может ухудшить работу сети.\n",
        "\n",
        "С PyTorch идут несколько таких алгоритмов, называемых `transforms`. Более подробно про них можно прочитать тут -\n",
        "https://pytorch.org/tutorials/beginner/data_loading_tutorial.html#transforms\n",
        "\n",
        "Ниже мы используем следующие алгоритмы генерации:\n",
        "- ColorJitter - случайное изменение цвета\n",
        "- RandomHorizontalFlip - горизонтальное отражение с вероятностью 50%\n",
        "- RandomVerticalFlip - вертикальное отражение с вероятностью 50%\n",
        "- RandomRotation - случайный поворот"
      ]
    },
    {
      "cell_type": "code",
      "metadata": {
        "colab_type": "code",
        "id": "jCWMUWmr7t5g",
        "pycharm": {
          "is_executing": false
        },
        "colab": {}
      },
      "source": [
        "tfs = transforms.Compose([\n",
        "    transforms.ColorJitter(hue=.50, saturation=.50),\n",
        "    transforms.RandomHorizontalFlip(),\n",
        "    transforms.RandomVerticalFlip(),\n",
        "    transforms.RandomRotation(50, resample=PIL.Image.BILINEAR),\n",
        "    transforms.ToTensor(),\n",
        "    transforms.Normalize(mean=[0.43,0.44,0.47],\n",
        "                       std=[0.20,0.20,0.20])                           \n",
        "])\n",
        "\n",
        "# Create augmented train dataset\n",
        "data_aug_train = dset.SVHN('./', \n",
        "                       transform=tfs\n",
        "                      )\n",
        "\n",
        "train_aug_loader = torch.utils.data.DataLoader(data_aug_train, batch_size=batch_size, \n",
        "                                           sampler=train_sampler)"
      ],
      "execution_count": 0,
      "outputs": []
    },
    {
      "cell_type": "markdown",
      "metadata": {
        "id": "U6Ow3ZnrUEaa",
        "colab_type": "text"
      },
      "source": [
        "Визуализируем результаты агментации (вообще, смотреть на сгенерированные данные всегда очень полезно)."
      ]
    },
    {
      "cell_type": "code",
      "metadata": {
        "colab_type": "code",
        "id": "YlJJEro1KZ45",
        "pycharm": {
          "is_executing": false
        },
        "outputId": "4057b597-b864-48b3-e250-5a41f001124e",
        "colab": {
          "base_uri": "https://localhost:8080/",
          "height": 173
        }
      },
      "source": [
        "# TODO: Visualize some augmented images!\n",
        "# hint: you can create new datasets and loaders to accomplish this\n",
        "\n",
        "# Based on the visualizations, should we keep all the augmentations?\n",
        "\n",
        "tfs = transforms.Compose([\n",
        "    transforms.ColorJitter(hue=.20, saturation=.20),\n",
        "    # transforms.RandomHorizontalFlip(),\n",
        "    # transforms.RandomVerticalFlip(),\n",
        "    transforms.RandomRotation(10, resample=PIL.Image.BILINEAR),\n",
        "])\n",
        "\n",
        "data_aug_vis = dset.SVHN('./', \n",
        "                       transform=tfs\n",
        "                      )\n",
        "\n",
        "plt.figure(figsize=(30, 3))\n",
        "\n",
        "for i, (x, y) in enumerate(data_aug_vis):\n",
        "    if i == 10:\n",
        "        break\n",
        "    plt.subplot(1, 10, i+1)\n",
        "    plt.grid(False)\n",
        "    plt.imshow(x)\n",
        "    plt.axis('off')"
      ],
      "execution_count": 32,
      "outputs": [
        {
          "output_type": "display_data",
          "data": {
            "image/png": "[encoded data removed]",
            "text/plain": [
              "<Figure size 2160x216 with 10 Axes>"
            ]
          },
          "metadata": {
            "tags": []
          }
        }
      ]
    },
    {
      "cell_type": "markdown",
      "metadata": {
        "colab_type": "text",
        "id": "o2LrmsYHoguB"
      },
      "source": [
        "Все ли агментации одинаково полезны на этом наборе данных? Могут ли быть среди них те, которые собьют модель с толку?\n",
        "\n",
        "Выберите из них только корректные"
      ]
    },
    {
      "cell_type": "code",
      "metadata": {
        "colab_type": "code",
        "id": "evro9ksXGs9u",
        "pycharm": {
          "is_executing": false
        },
        "colab": {}
      },
      "source": [
        "# TODO: \n",
        "tfs = transforms.Compose([\n",
        "    # TODO: Add good augmentations\n",
        "    transforms.ColorJitter(hue=.20, saturation=.20), \n",
        "    transforms.RandomRotation(10, resample=PIL.Image.BILINEAR),\n",
        "    transforms.ToTensor(),\n",
        "    transforms.Normalize(mean=[0.43,0.44,0.47],\n",
        "                       std=[0.20,0.20,0.20])\n",
        "])\n",
        "\n",
        "# TODO create new instances of loaders with the augmentations you chose\n",
        "train_aug_loader = torch.utils.data.DataLoader(data_aug_train, batch_size=batch_size, \n",
        "                                           sampler=train_sampler)"
      ],
      "execution_count": 0,
      "outputs": []
    },
    {
      "cell_type": "code",
      "metadata": {
        "colab_type": "code",
        "id": "PeO6Zw0DHqPR",
        "pycharm": {
          "is_executing": false
        },
        "outputId": "c01b23b6-d7f4-4ac1-ff8e-afdad3d3d6f4",
        "colab": {
          "base_uri": "https://localhost:8080/",
          "height": 102
        }
      },
      "source": [
        "# Finally, let's train with augmentations!\n",
        "\n",
        "# Note we shouldn't use augmentations on validation\n",
        "\n",
        "loss_history, train_history, val_history = train_model(nn_model, train_aug_loader, val_loader, loss, optimizer, 5)"
      ],
      "execution_count": 0,
      "outputs": [
        {
          "output_type": "stream",
          "text": [
            "Average loss: 2.025833, Train accuracy: 0.284049, Val accuracy: 0.513412\n",
            "Average loss: 1.749766, Train accuracy: 0.374910, Val accuracy: 0.522763\n",
            "Average loss: 1.652160, Train accuracy: 0.408525, Val accuracy: 0.461402\n",
            "Average loss: 1.591386, Train accuracy: 0.434085, Val accuracy: 0.532523\n",
            "Average loss: 1.541344, Train accuracy: 0.450944, Val accuracy: 0.498533\n"
          ],
          "name": "stdout"
        }
      ]
    },
    {
      "cell_type": "markdown",
      "metadata": {
        "colab_type": "text",
        "id": "r0bcioK6JBDK"
      },
      "source": [
        "# LeNet\n",
        "Попробуем имплементировать классическую архитектуру сверточной нейронной сети, предложенную Яном ЛеКуном в 1998 году. В свое время она достигла впечатляющих результатов на MNIST, посмотрим как она справится с SVHN?\n",
        "Она описана в статье [\"Gradient Based Learning Applied to Document Recognition\"](http://yann.lecun.com/exdb/publis/pdf/lecun-01a.pdf), попробуйте прочитать ключевые части и имплементировать предложенную архитетуру на PyTorch.\n",
        "\n",
        "Реализовывать слои и функцию ошибки LeNet, которых нет в PyTorch, **не нужно** - просто возьмите их размеры и переведите в уже известные нам Convolutional, Pooling и Fully Connected layers.\n",
        "\n",
        "Если в статье не очень понятно, можно просто погуглить LeNet и разобраться в деталях :)"
      ]
    },
    {
      "cell_type": "code",
      "metadata": {
        "colab_type": "code",
        "id": "ieEzZUglJAUB",
        "pycharm": {
          "is_executing": false
        },
        "colab": {}
      },
      "source": [
        "# TODO: Implement LeNet-like architecture for SVHN task\n",
        "lenet_model = nn.Sequential(\n",
        "                nn.Conv2d(3, 6, 5),\n",
        "                nn.ReLU(inplace=True),\n",
        "                nn.MaxPool2d(2, stride=2),\n",
        "\n",
        "                nn.Conv2d(6, 16, 5),\n",
        "                nn.ReLU(inplace=True),\n",
        "                nn.MaxPool2d(2, stride=2),\n",
        "\n",
        "                nn.Conv2d(16, 120, 5),\n",
        "                nn.ReLU(inplace=True),\n",
        "                \n",
        "                Flattener(),\n",
        "                nn.Linear(120, 84),\n",
        "                nn.Linear(84, 10)\n",
        "          )\n",
        "\n",
        "\n",
        "lenet_model.type(torch.cuda.FloatTensor)\n",
        "lenet_model.to(device)\n",
        "\n",
        "loss = nn.CrossEntropyLoss().type(torch.cuda.FloatTensor)\n",
        "optimizer = optim.SGD(lenet_model.parameters(), lr=1e-1, weight_decay=1e-4)"
      ],
      "execution_count": 0,
      "outputs": []
    },
    {
      "cell_type": "code",
      "metadata": {
        "colab_type": "code",
        "id": "WMmaPfdeKk9H",
        "pycharm": {
          "is_executing": false
        },
        "outputId": "cbbb36c1-79b2-4c71-f87f-8bac65a32a4f",
        "colab": {
          "base_uri": "https://localhost:8080/",
          "height": 187
        }
      },
      "source": [
        "# Let's train it!\n",
        "loss_history, train_history, val_history = train_model(lenet_model, train_aug_loader, val_loader, loss, optimizer, 10)"
      ],
      "execution_count": 0,
      "outputs": [
        {
          "output_type": "stream",
          "text": [
            "Average loss: 2.150236, Train accuracy: 0.226530, Val accuracy: 0.366733\n",
            "Average loss: 1.555373, Train accuracy: 0.461745, Val accuracy: 0.527063\n",
            "Average loss: 1.262171, Train accuracy: 0.573661, Val accuracy: 0.606034\n",
            "Average loss: 1.146426, Train accuracy: 0.616609, Val accuracy: 0.653607\n",
            "Average loss: 1.081984, Train accuracy: 0.637512, Val accuracy: 0.635042\n",
            "Average loss: 1.039939, Train accuracy: 0.650070, Val accuracy: 0.678862\n",
            "Average loss: 1.009605, Train accuracy: 0.659182, Val accuracy: 0.682820\n",
            "Average loss: 0.989568, Train accuracy: 0.664471, Val accuracy: 0.692854\n",
            "Average loss: 0.977238, Train accuracy: 0.670477, Val accuracy: 0.684527\n",
            "Average loss: 0.958383, Train accuracy: 0.676245, Val accuracy: 0.695516\n"
          ],
          "name": "stdout"
        }
      ]
    },
    {
      "cell_type": "markdown",
      "metadata": {
        "colab_type": "text",
        "id": "u_O9qiYySvuj"
      },
      "source": [
        "# Подбор гиперпараметров"
      ]
    },
    {
      "cell_type": "code",
      "metadata": {
        "colab_type": "code",
        "id": "i6mhfdQ9K-N3",
        "pycharm": {
          "is_executing": false
        },
        "outputId": "45a8a123-b04f-4221-b06e-add017a35d26",
        "colab": {
          "base_uri": "https://localhost:8080/",
          "height": 714
        }
      },
      "source": [
        "# The key hyperparameters we're going to tune are learning speed, annealing rate and regularization\n",
        "# We also encourage you to try different optimizers as well\n",
        "\n",
        "Hyperparams = namedtuple(\"Hyperparams\", ['learning_rate', 'anneal_epochs', 'reg'])\n",
        "RunResult = namedtuple(\"RunResult\", ['model', 'train_history', 'val_history', 'final_val_accuracy'])\n",
        "\n",
        "learning_rates = [1e0, 1e-1, 1e-2, 1e-3, 1e-4]\n",
        "anneal_coeff = 0.2\n",
        "anneal_epochs = [1, 5, 10, 15, 20, 50]\n",
        "reg = [1e-3, 1e-4, 1e-5, 1e-7]\n",
        "\n",
        "batch_size = 64\n",
        "epoch_num = 10\n",
        "\n",
        "# Record all the runs here\n",
        "# Key should be Hyperparams and values should be RunResult\n",
        "run_record = {} \n",
        "params_grid = [learning_rates, anneal_epochs, reg]\n",
        "\n",
        "# Use grid search or random search and record all runs in run_record dictionnary \n",
        "# Important: perform search in logarithmic space!\n",
        "\n",
        "# TODO: Your code here!\n",
        "import random\n",
        "for i in range(10):\n",
        "  params = [random.sample(param, 1)[0] for param in params_grid]\n",
        "  print(\"lr=\", params[0], \", anneal_epochs=\", params[1], \", reg=\", params[2])\n",
        "\n",
        "  loss = nn.CrossEntropyLoss().type(torch.cuda.FloatTensor)\n",
        "  optimizer = optim.SGD(lenet_model.parameters(), lr=params[0], weight_decay=params[2])\n",
        "  scheduler = torch.optim.lr_scheduler.StepLR(optimizer, step_size=params[1], gamma=anneal_coeff)\n",
        "  loss_history, train_history, val_history = train_model(lenet_model, train_aug_loader, val_loader, loss, optimizer, num_epochs=epoch_num)\n",
        "  run_record[Hyperparams(*params)] = RunResult(lenet_model, train_history, val_history, val_history[-1])"
      ],
      "execution_count": 0,
      "outputs": [
        {
          "output_type": "stream",
          "text": [
            "lr= 0.01 , anneal_epochs= 50 , reg= 0.0001\n",
            "Average loss: 0.856471, Train accuracy: 0.712401, Val accuracy: 0.724524\n",
            "Average loss: 0.827511, Train accuracy: 0.720762, Val accuracy: 0.728824\n",
            "Average loss: 0.819167, Train accuracy: 0.724294, Val accuracy: 0.735240\n",
            "Average loss: 0.812017, Train accuracy: 0.726649, Val accuracy: 0.730394\n",
            "Average loss: 0.807654, Train accuracy: 0.726376, Val accuracy: 0.733738\n",
            "Average loss: 0.801609, Train accuracy: 0.729379, Val accuracy: 0.735581\n",
            "Average loss: 0.802765, Train accuracy: 0.728390, Val accuracy: 0.734899\n",
            "Average loss: 0.792361, Train accuracy: 0.731546, Val accuracy: 0.733329\n",
            "Average loss: 0.797072, Train accuracy: 0.730608, Val accuracy: 0.738311\n",
            "Average loss: 0.790748, Train accuracy: 0.733679, Val accuracy: 0.736400\n",
            "lr= 0.1 , anneal_epochs= 20 , reg= 0.0001\n",
            "Average loss: 0.929259, Train accuracy: 0.686329, Val accuracy: 0.693332\n",
            "Average loss: 0.926593, Train accuracy: 0.687728, Val accuracy: 0.702819\n",
            "Average loss: 0.918966, Train accuracy: 0.690987, Val accuracy: 0.704252\n",
            "Average loss: 0.911432, Train accuracy: 0.693308, Val accuracy: 0.637090\n",
            "Average loss: 0.904836, Train accuracy: 0.694434, Val accuracy: 0.686165\n",
            "Average loss: 0.894680, Train accuracy: 0.696192, Val accuracy: 0.678042\n",
            "Average loss: 0.894040, Train accuracy: 0.694980, Val accuracy: 0.663299\n",
            "Average loss: 0.889337, Train accuracy: 0.700747, Val accuracy: 0.693332\n",
            "Average loss: 0.885358, Train accuracy: 0.698887, Val accuracy: 0.715651\n",
            "Average loss: 0.882458, Train accuracy: 0.700867, Val accuracy: 0.700703\n",
            "lr= 1.0 , anneal_epochs= 10 , reg= 1e-05\n",
            "Average loss: nan, Train accuracy: 0.069106, Val accuracy: 0.065320\n",
            "Average loss: nan, Train accuracy: 0.068099, Val accuracy: 0.065320\n",
            "Average loss: nan, Train accuracy: 0.068099, Val accuracy: 0.065320\n",
            "Average loss: nan, Train accuracy: 0.068099, Val accuracy: 0.065320\n",
            "Average loss: nan, Train accuracy: 0.068099, Val accuracy: 0.065320\n",
            "Average loss: nan, Train accuracy: 0.068099, Val accuracy: 0.065320\n",
            "Average loss: nan, Train accuracy: 0.068099, Val accuracy: 0.065320\n",
            "Average loss: nan, Train accuracy: 0.068099, Val accuracy: 0.065320\n",
            "Average loss: nan, Train accuracy: 0.068099, Val accuracy: 0.065320\n",
            "Average loss: nan, Train accuracy: 0.068099, Val accuracy: 0.065320\n",
            "lr= 0.001 , anneal_epochs= 15 , reg= 1e-05\n",
            "Average loss: nan, Train accuracy: 0.068099, Val accuracy: 0.065320\n",
            "Average loss: nan, Train accuracy: 0.068099, Val accuracy: 0.065320\n",
            "Average loss: nan, Train accuracy: 0.068099, Val accuracy: 0.065320\n",
            "Average loss: nan, Train accuracy: 0.068099, Val accuracy: 0.065320\n",
            "Average loss: nan, Train accuracy: 0.068099, Val accuracy: 0.065320\n",
            "Average loss: nan, Train accuracy: 0.068099, Val accuracy: 0.065320\n",
            "Average loss: nan, Train accuracy: 0.068099, Val accuracy: 0.065320\n"
          ],
          "name": "stdout"
        }
      ]
    },
    {
      "cell_type": "code",
      "metadata": {
        "colab_type": "code",
        "id": "Y6xExdw8JB1l",
        "pycharm": {
          "is_executing": false
        },
        "colab": {}
      },
      "source": [
        "# best_val_accuracy = 0.772780\n",
        "# best_hyperparams = 0.01, 15, 0.0001\n",
        "# best_run = run_record[7]\n",
        "best_val_accuracy = None\n",
        "best_hyperparams = None\n",
        "best_run = None\n",
        "\n",
        "for hyperparams, run_result in run_record.items():\n",
        "    if best_val_accuracy is None or best_val_accuracy < run_result.final_val_accuracy:\n",
        "        best_val_accuracy = run_result.final_val_accuracy\n",
        "        best_hyperparams = hyperparams\n",
        "        best_run = run_result\n",
        "        \n",
        "print(\"Best validation accuracy: %4.2f, best hyperparams: %s\" % (best_val_accuracy, best_hyperparams))\n",
        "        "
      ],
      "execution_count": 0,
      "outputs": []
    },
    {
      "cell_type": "markdown",
      "metadata": {
        "colab_type": "text",
        "id": "LOmsR0uVgtgf"
      },
      "source": [
        "# Свободное упражнение - догоним и перегоним LeNet!\n",
        "\n",
        "Попробуйте найти архитектуру и настройки тренировки, чтобы выступить лучше наших бейзлайнов.\n",
        "\n",
        "Что можно и нужно попробовать:\n",
        "- BatchNormalization (для convolution layers он в PyTorch называется [batchnorm2d](https://pytorch.org/docs/stable/nn.html#batchnorm2d))\n",
        "- Изменить количество слоев и их толщину\n",
        "- Изменять количество эпох тренировки\n",
        "- Попробовать и другие агментации"
      ]
    },
    {
      "cell_type": "code",
      "metadata": {
        "id": "_eJ7uOPt092r",
        "colab_type": "code",
        "colab": {}
      },
      "source": [
        "def train_model(model, train_loader, val_loader, loss, optimizer, num_epochs, scheduler):    \n",
        "    loss_history = []\n",
        "    train_history = []\n",
        "    val_history = []\n",
        "    for epoch in range(num_epochs):\n",
        "        model.train() # Enter train mode\n",
        "        \n",
        "        loss_accum = 0\n",
        "        correct_samples = 0\n",
        "        total_samples = 0\n",
        "        for i_step, (x, y) in enumerate(train_loader):\n",
        "          \n",
        "            x_gpu = x.to(device)\n",
        "            y_gpu = y.to(device)\n",
        "            prediction = model(x_gpu)    \n",
        "            loss_value = loss(prediction, y_gpu)\n",
        "            optimizer.zero_grad()\n",
        "            loss_value.backward()\n",
        "            optimizer.step()\n",
        "            \n",
        "            _, indices = torch.max(prediction, 1)\n",
        "            correct_samples += torch.sum(indices == y_gpu)\n",
        "            total_samples += y.shape[0]\n",
        "            \n",
        "            loss_accum += loss_value\n",
        "        scheduler.step()\n",
        "\n",
        "        ave_loss = loss_accum / i_step\n",
        "        train_accuracy = float(correct_samples) / total_samples\n",
        "        val_accuracy = compute_accuracy(model, val_loader)\n",
        "        \n",
        "        loss_history.append(float(ave_loss))\n",
        "        train_history.append(train_accuracy)\n",
        "        val_history.append(val_accuracy)\n",
        "        \n",
        "        print(\"Average loss: %f, Train accuracy: %f, Val accuracy: %f\" % (ave_loss, train_accuracy, val_accuracy))\n",
        "        \n",
        "    return loss_history, train_history, val_history"
      ],
      "execution_count": 0,
      "outputs": []
    },
    {
      "cell_type": "code",
      "metadata": {
        "colab_type": "code",
        "id": "tSVhD747icoc",
        "pycharm": {
          "is_executing": false
        },
        "colab": {
          "base_uri": "https://localhost:8080/",
          "height": 272
        },
        "outputId": "dca01442-3b10-4534-efb7-ecf7baf96303"
      },
      "source": [
        "best_model = None\n",
        "\n",
        "# LeNet model\n",
        "best_model = nn.Sequential(\n",
        "                nn.Conv2d(3, 6, 5),\n",
        "                nn.ReLU(inplace=True),\n",
        "                nn.BatchNorm2d(6),\n",
        "                nn.MaxPool2d(2, stride=2),\n",
        "\n",
        "                nn.Conv2d(6, 16, 5),\n",
        "                nn.ReLU(inplace=True),\n",
        "                nn.BatchNorm2d(16),\n",
        "                nn.MaxPool2d(2, stride=2),\n",
        "\n",
        "                nn.Conv2d(16, 120, 5),\n",
        "                nn.ReLU(inplace=True),\n",
        "                nn.BatchNorm2d(120),\n",
        "                \n",
        "                Flattener(),\n",
        "                nn.Linear(120, 84),\n",
        "                nn.ReLU(inplace=True),\n",
        "                nn.Linear(84, 10),\n",
        "                nn.LogSoftmax(dim=-1)\n",
        "          )\n",
        "# ResNet34 model (got better result than ResNet18, ResNet50, ResNet101, ResNet152)\n",
        "# best_model = torch.hub.load('pytorch/vision:v0.5.0', 'resnet34', pretrained=True)\n",
        "\n",
        "best_model.type(torch.cuda.FloatTensor)\n",
        "best_model.to(device)\n",
        "\n",
        "loss = nn.CrossEntropyLoss().type(torch.cuda.FloatTensor)\n",
        "optimizer = optim.SGD(best_model.parameters(), lr=1e-1, weight_decay=1e-5)\n",
        "optim.Adam\n",
        "scheduler = torch.optim.lr_scheduler.StepLR(optimizer, step_size=10, gamma=0.999)\n",
        "loss_history, train_history, val_history = train_model(best_model, train_aug_loader, val_loader, loss, optimizer, num_epochs=15, scheduler=scheduler)"
      ],
      "execution_count": 79,
      "outputs": [
        {
          "output_type": "stream",
          "text": [
            "Average loss: 0.756584, Train accuracy: 0.758455, Val accuracy: 0.865675\n",
            "Average loss: 0.443815, Train accuracy: 0.864485, Val accuracy: 0.886697\n",
            "Average loss: 0.382452, Train accuracy: 0.882623, Val accuracy: 0.889427\n",
            "Average loss: 0.351031, Train accuracy: 0.892707, Val accuracy: 0.898983\n",
            "Average loss: 0.326312, Train accuracy: 0.901051, Val accuracy: 0.900007\n",
            "Average loss: 0.305335, Train accuracy: 0.906375, Val accuracy: 0.901850\n",
            "Average loss: 0.293627, Train accuracy: 0.910402, Val accuracy: 0.906423\n",
            "Average loss: 0.276749, Train accuracy: 0.914906, Val accuracy: 0.906969\n",
            "Average loss: 0.269940, Train accuracy: 0.917739, Val accuracy: 0.904785\n",
            "Average loss: 0.257604, Train accuracy: 0.921732, Val accuracy: 0.908948\n",
            "Average loss: 0.248829, Train accuracy: 0.923711, Val accuracy: 0.909289\n",
            "Average loss: 0.243048, Train accuracy: 0.924718, Val accuracy: 0.909904\n",
            "Average loss: 0.234588, Train accuracy: 0.927687, Val accuracy: 0.909767\n",
            "Average loss: 0.227136, Train accuracy: 0.930724, Val accuracy: 0.913385\n",
            "Average loss: 0.220387, Train accuracy: 0.931406, Val accuracy: 0.911474\n"
          ],
          "name": "stdout"
        }
      ]
    },
    {
      "cell_type": "markdown",
      "metadata": {
        "colab_type": "text",
        "id": "ubeKgBcnhx7N"
      },
      "source": [
        "# Финальный аккорд - проверим лучшую модель на test set\n",
        "\n",
        "В качестве разнообразия - напишите код для прогона модели на test set вы.\n",
        "\n",
        "В результате вы должны натренировать модель, которая покажет более **90%** точности на test set.  \n",
        "Как водится, лучший результат в группе получит дополнительные баллы!"
      ]
    },
    {
      "cell_type": "code",
      "metadata": {
        "colab_type": "code",
        "id": "EIqM1kdeh-hd",
        "pycharm": {
          "is_executing": false
        },
        "colab": {
          "base_uri": "https://localhost:8080/",
          "height": 34
        },
        "outputId": "0a70dd67-c34a-4053-ebf5-fa5255707c20"
      },
      "source": [
        "final_test_accuracy = 0.0\n",
        "\n",
        "test_loader = torch.utils.data.DataLoader(data_test, batch_size=batch_size)\n",
        "final_test_accuracy = compute_accuracy(best_model, test_loader)\n",
        "\n",
        "print(\"Final test accuracy - \", final_test_accuracy)"
      ],
      "execution_count": 80,
      "outputs": [
        {
          "output_type": "stream",
          "text": [
            "Final test accuracy -  0.9067685925015365\n"
          ],
          "name": "stdout"
        }
      ]
    },
    {
      "cell_type": "code",
      "metadata": {
        "colab_type": "code",
        "id": "BfH6qip6kVX_",
        "pycharm": {
          "is_executing": false
        },
        "colab": {}
      },
      "source": [
        ""
      ],
      "execution_count": 0,
      "outputs": []
    }
  ]
}