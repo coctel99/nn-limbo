{
 "cells": [
  {
   "cell_type": "markdown",
   "metadata": {},
   "source": [
    "# Задание 2.1 - Нейронные сети\n",
    "\n",
    "В этом задании вы реализуете и натренируете настоящую нейроную сеть своими руками!\n",
    "\n",
    "В некотором смысле это будет расширением прошлого задания - нам нужно просто составить несколько линейных классификаторов вместе!\n",
    "\n",
    "<img src=\"https://i.redd.it/n9fgba8b0qr01.png\" alt=\"Stack_more_layers\" width=\"400px\"/>"
   ]
  },
  {
   "cell_type": "code",
   "execution_count": 1,
   "metadata": {
    "pycharm": {
     "is_executing": false
    }
   },
   "outputs": [],
   "source": [
    "import numpy as np\n",
    "import matplotlib.pyplot as plt\n",
    "\n",
    "%matplotlib inline\n",
    "\n",
    "%load_ext autoreload\n",
    "%autoreload 2"
   ]
  },
  {
   "cell_type": "code",
   "execution_count": 2,
   "metadata": {
    "pycharm": {
     "is_executing": false
    }
   },
   "outputs": [],
   "source": [
    "from dataset import load_svhn, random_split_train_val\n",
    "from gradient_check import check_layer_gradient, check_layer_param_gradient, check_model_gradient\n",
    "from layers import FullyConnectedLayer, ReLULayer\n",
    "from model import TwoLayerNet\n",
    "from trainer import Trainer, Dataset\n",
    "from optim import SGD, MomentumSGD\n",
    "from metrics import multiclass_accuracy"
   ]
  },
  {
   "cell_type": "markdown",
   "metadata": {},
   "source": [
    "# Загружаем данные\n",
    "\n",
    "И разделяем их на training и validation."
   ]
  },
  {
   "cell_type": "code",
   "execution_count": 3,
   "metadata": {
    "pycharm": {
     "is_executing": false
    }
   },
   "outputs": [],
   "source": [
    "def prepare_for_neural_network(train_X, test_X):\n",
    "    train_flat = train_X.reshape(train_X.shape[0], -1).astype(np.float) / 255.0\n",
    "    test_flat = test_X.reshape(test_X.shape[0], -1).astype(np.float) / 255.0\n",
    "    \n",
    "    # Subtract mean\n",
    "    mean_image = np.mean(train_flat, axis = 0)\n",
    "    train_flat -= mean_image\n",
    "    test_flat -= mean_image\n",
    "    \n",
    "    return train_flat, test_flat\n",
    "    \n",
    "train_X, train_y, test_X, test_y = load_svhn(\"data\", max_train=10000, max_test=1000)    \n",
    "train_X, test_X = prepare_for_neural_network(train_X, test_X)\n",
    "# Split train into train and val\n",
    "train_X, train_y, val_X, val_y = random_split_train_val(train_X, train_y, num_val = 1000)"
   ]
  },
  {
   "cell_type": "markdown",
   "metadata": {},
   "source": [
    "# Как всегда, начинаем с кирпичиков\n",
    "\n",
    "Мы будем реализовывать необходимые нам слои по очереди. Каждый слой должен реализовать:\n",
    "- прямой проход (forward pass), который генерирует выход слоя по входу и запоминает необходимые данные\n",
    "- обратный проход (backward pass), который получает градиент по выходу слоя и вычисляет градиент по входу и по параметрам\n",
    "\n",
    "Начнем с ReLU, у которого параметров нет."
   ]
  },
  {
   "cell_type": "code",
   "execution_count": 4,
   "metadata": {
    "scrolled": false,
    "pycharm": {
     "is_executing": false
    }
   },
   "outputs": [
    {
     "name": "stdout",
     "text": [
      "Gradient check passed!\n"
     ],
     "output_type": "stream"
    }
   ],
   "source": [
    "# TODO: Implement ReLULayer layer in layers.py\n",
    "# Note: you'll need to copy implementation of the gradient_check function from the previous assignment\n",
    "\n",
    "X = np.array([[1,-2,3],\n",
    "              [-1, 2, 0.1]\n",
    "              ])\n",
    "\n",
    "assert check_layer_gradient(ReLULayer(), X)"
   ]
  },
  {
   "cell_type": "markdown",
   "metadata": {},
   "source": [
    "А теперь реализуем полносвязный слой (fully connected layer), у которого будет два массива параметров: W (weights) и B (bias).\n",
    "\n",
    "Все параметры наши слои будут использовать для параметров специальный класс `Param`, в котором будут храниться значения параметров и градиенты этих параметров, вычисляемые во время обратного прохода.\n",
    "\n",
    "Это даст возможность аккумулировать (суммировать) градиенты из разных частей функции потерь, например, из cross-entropy loss и regularization loss."
   ]
  },
  {
   "cell_type": "code",
   "execution_count": 5,
   "metadata": {
    "pycharm": {
     "is_executing": false
    }
   },
   "outputs": [
    {
     "name": "stdout",
     "text": [
      "Gradient check passed!\nGradient check passed!\nGradient check passed!\n"
     ],
     "output_type": "stream"
    }
   ],
   "source": [
    "# TODO: Implement FullyConnected layer forward and backward methods\n",
    "assert check_layer_gradient(FullyConnectedLayer(3, 4), X)\n",
    "# TODO: Implement storing gradients for W and B\n",
    "assert check_layer_param_gradient(FullyConnectedLayer(3, 4), X, 'W')\n",
    "assert check_layer_param_gradient(FullyConnectedLayer(3, 4), X, 'B')"
   ]
  },
  {
   "cell_type": "markdown",
   "metadata": {},
   "source": [
    "## Создаем нейронную сеть\n",
    "\n",
    "Теперь мы реализуем простейшую нейронную сеть с двумя полносвязным слоями и нелинейностью ReLU. Реализуйте функцию `compute_loss_and_gradients`, она должна запустить прямой и обратный проход через оба слоя для вычисления градиентов.\n",
    "\n",
    "Не забудьте реализовать очистку градиентов в начале функции."
   ]
  },
  {
   "cell_type": "code",
   "execution_count": 6,
   "metadata": {
    "pycharm": {
     "is_executing": false
    }
   },
   "outputs": [
    {
     "name": "stdout",
     "text": [
      "Checking gradient for layer1.W\n",
      "Gradient check passed!\nChecking gradient for layer1.B\nGradient check passed!\nChecking gradient for layer3.W\nGradient check passed!\nChecking gradient for layer3.B\nGradient check passed!\n"
     ],
     "output_type": "stream"
    },
    {
     "data": {
      "text/plain": "True"
     },
     "metadata": {},
     "output_type": "execute_result",
     "execution_count": 6
    }
   ],
   "source": [
    "# TODO: In model.py, implement compute_loss_and_gradients function\n",
    "model = TwoLayerNet(n_input = train_X.shape[1], n_output = 10, hidden_layer_size = 3, reg = 0)\n",
    "loss = model.compute_loss_and_gradients(train_X[:2], train_y[:2])\n",
    "\n",
    "# TODO Now implement backward pass and aggregate all of the params\n",
    "check_model_gradient(model, train_X[:2], train_y[:2])"
   ]
  },
  {
   "cell_type": "markdown",
   "metadata": {},
   "source": [
    "Теперь добавьте к модели регуляризацию - она должна прибавляться к loss и делать свой вклад в градиенты."
   ]
  },
  {
   "cell_type": "code",
   "execution_count": 7,
   "metadata": {
    "pycharm": {
     "is_executing": false
    }
   },
   "outputs": [
    {
     "name": "stdout",
     "text": [
      "Checking gradient for layer1.W\n",
      "Gradient check passed!\nChecking gradient for layer1.B\nGradient check passed!\nChecking gradient for layer3.W\nGradient check passed!\nChecking gradient for layer3.B\nGradient check passed!\n"
     ],
     "output_type": "stream"
    },
    {
     "data": {
      "text/plain": "True"
     },
     "metadata": {},
     "output_type": "execute_result",
     "execution_count": 7
    }
   ],
   "source": [
    "# TODO Now implement l2 regularization in the forward and backward pass\n",
    "model_with_reg = TwoLayerNet(n_input = train_X.shape[1], n_output = 10, hidden_layer_size = 3, reg = 1e1)\n",
    "loss_with_reg = model_with_reg.compute_loss_and_gradients(train_X[:2], train_y[:2])\n",
    "assert loss_with_reg > loss and not np.isclose(loss_with_reg, loss), \\\n",
    "    \"Loss with regularization (%2.4f) should be higher than without it (%2.4f)!\" % (loss, loss_with_reg)\n",
    "\n",
    "check_model_gradient(model_with_reg, train_X[:2], train_y[:2])"
   ]
  },
  {
   "cell_type": "markdown",
   "metadata": {},
   "source": [
    "Также реализуем функцию предсказания (вычисления значения) модели на новых данных.\n",
    "\n",
    "Какое значение точности мы ожидаем увидеть до начала тренировки?"
   ]
  },
  {
   "cell_type": "code",
   "execution_count": 8,
   "metadata": {
    "pycharm": {
     "is_executing": false
    }
   },
   "outputs": [
    {
     "data": {
      "text/plain": "0.1"
     },
     "metadata": {},
     "output_type": "execute_result",
     "execution_count": 8
    }
   ],
   "source": [
    "# Finally, implement predict function!\n",
    "\n",
    "# TODO: Implement predict function\n",
    "# What would be the value we expect?\n",
    "multiclass_accuracy(model_with_reg.predict(train_X[:30]), train_y[:30]) "
   ]
  },
  {
   "cell_type": "markdown",
   "metadata": {},
   "source": [
    "# Допишем код для процесса тренировки\n",
    "\n",
    "Если все реализовано корректно, значение функции ошибки должно уменьшаться с каждой эпохой, пусть и медленно. Не беспокойтесь пока про validation accuracy."
   ]
  },
  {
   "cell_type": "code",
   "execution_count": 9,
   "metadata": {
    "pycharm": {
     "is_executing": false
    }
   },
   "outputs": [
    {
     "name": "stdout",
     "text": [
      "Loss: 2.217057, Train accuracy: 0.196667, val accuracy: 0.206000\n",
      "Loss: 2.157437, Train accuracy: 0.196667, val accuracy: 0.206000\n",
      "Loss: 2.115648, Train accuracy: 0.196667, val accuracy: 0.206000\n",
      "Loss: 2.287707, Train accuracy: 0.196667, val accuracy: 0.206000\n",
      "Loss: 2.176635, Train accuracy: 0.196667, val accuracy: 0.206000\n",
      "Loss: 2.070778, Train accuracy: 0.196667, val accuracy: 0.206000\n",
      "Loss: 2.389343, Train accuracy: 0.196667, val accuracy: 0.206000\n",
      "Loss: 2.201810, Train accuracy: 0.196667, val accuracy: 0.206000\n",
      "Loss: 2.268138, Train accuracy: 0.196667, val accuracy: 0.206000\n",
      "Loss: 2.177243, Train accuracy: 0.196667, val accuracy: 0.206000\n",
      "Loss: 2.188959, Train accuracy: 0.196667, val accuracy: 0.206000\n",
      "Loss: 2.288565, Train accuracy: 0.196667, val accuracy: 0.206000\n",
      "Loss: 2.324022, Train accuracy: 0.196667, val accuracy: 0.206000\n",
      "Loss: 2.277031, Train accuracy: 0.196667, val accuracy: 0.206000\n",
      "Loss: 2.376680, Train accuracy: 0.196667, val accuracy: 0.206000\n",
      "Loss: 2.181966, Train accuracy: 0.196667, val accuracy: 0.206000\n",
      "Loss: 2.288749, Train accuracy: 0.196667, val accuracy: 0.206000\n",
      "Loss: 2.281310, Train accuracy: 0.196667, val accuracy: 0.206000\n",
      "Loss: 2.245181, Train accuracy: 0.196667, val accuracy: 0.206000\n",
      "Loss: 2.235221, Train accuracy: 0.196667, val accuracy: 0.206000\n"
     ],
     "output_type": "stream"
    }
   ],
   "source": [
    "model = TwoLayerNet(n_input = train_X.shape[1], n_output = 10, hidden_layer_size = 100, reg = 1e1)\n",
    "dataset = Dataset(train_X, train_y, val_X, val_y)\n",
    "trainer = Trainer(model, dataset, SGD(), learning_rate = 1e-2)\n",
    "\n",
    "# TODO Implement missing pieces in Trainer.fit function\n",
    "# You should expect loss to go down every epoch, even if it's slow\n",
    "loss_history, train_history, val_history = trainer.fit()"
   ]
  },
  {
   "cell_type": "code",
   "execution_count": 10,
   "metadata": {
    "pycharm": {
     "is_executing": false
    }
   },
   "outputs": [
    {
     "data": {
      "text/plain": "[<matplotlib.lines.Line2D at 0x10867a88>]"
     },
     "metadata": {},
     "output_type": "execute_result",
     "execution_count": 10
    },
    {
     "data": {
      "text/plain": "<Figure size 432x288 with 1 Axes>",
      "image/png": "[encoded data removed]"
     },
     "metadata": {
      "needs_background": "light"
     },
     "output_type": "display_data"
    }
   ],
   "source": [
    "plt.plot(train_history)\n",
    "plt.plot(val_history)"
   ]
  },
  {
   "cell_type": "markdown",
   "metadata": {},
   "source": [
    "# Улучшаем процесс тренировки\n",
    "\n",
    "Мы реализуем несколько ключевых оптимизаций, необходимых для тренировки современных нейросетей."
   ]
  },
  {
   "cell_type": "markdown",
   "metadata": {},
   "source": [
    "## Уменьшение скорости обучения (learning rate decay)\n",
    "\n",
    "Одна из необходимых оптимизаций во время тренировки нейронных сетей - постепенное уменьшение скорости обучения по мере тренировки.\n",
    "\n",
    "Один из стандартных методов - уменьшение скорости обучения (learning rate) каждые N эпох на коэффициент d (часто называемый decay). Значения N и d, как всегда, являются гиперпараметрами и должны подбираться на основе эффективности на проверочных данных (validation data). \n",
    "\n",
    "В нашем случае N будет равным 1."
   ]
  },
  {
   "cell_type": "code",
   "execution_count": 11,
   "metadata": {
    "pycharm": {
     "is_executing": false
    }
   },
   "outputs": [
    {
     "name": "stdout",
     "text": [
      "Loss: 2.250718, Train accuracy: 0.196667, val accuracy: 0.206000\n",
      "Loss: 2.369508, Train accuracy: 0.196667, val accuracy: 0.206000\n",
      "Loss: 2.209910, Train accuracy: 0.196667, val accuracy: 0.206000\n",
      "Loss: 2.258537, Train accuracy: 0.196667, val accuracy: 0.206000\n",
      "Loss: 2.188416, Train accuracy: 0.196667, val accuracy: 0.206000\n",
      "Loss: 2.205064, Train accuracy: 0.196667, val accuracy: 0.206000\n",
      "Loss: 2.126148, Train accuracy: 0.196667, val accuracy: 0.206000\n",
      "Loss: 2.319578, Train accuracy: 0.196667, val accuracy: 0.206000\n",
      "Loss: 2.325751, Train accuracy: 0.196667, val accuracy: 0.206000\n",
      "Loss: 2.320998, Train accuracy: 0.196667, val accuracy: 0.206000\n",
      "Loss: 2.175592, Train accuracy: 0.196667, val accuracy: 0.206000\n",
      "Loss: 2.265976, Train accuracy: 0.196667, val accuracy: 0.206000\n",
      "Loss: 2.363186, Train accuracy: 0.196667, val accuracy: 0.206000\n",
      "Loss: 2.131519, Train accuracy: 0.196667, val accuracy: 0.206000\n",
      "Loss: 2.410504, Train accuracy: 0.196667, val accuracy: 0.206000\n",
      "Loss: 2.228590, Train accuracy: 0.196667, val accuracy: 0.206000\n",
      "Loss: 2.294455, Train accuracy: 0.196667, val accuracy: 0.206000\n",
      "Loss: 2.242233, Train accuracy: 0.196667, val accuracy: 0.206000\n",
      "Loss: 2.233189, Train accuracy: 0.196667, val accuracy: 0.206000\n",
      "Loss: 2.213630, Train accuracy: 0.196667, val accuracy: 0.206000\n"
     ],
     "output_type": "stream"
    }
   ],
   "source": [
    "# TODO Implement learning rate decay inside Trainer.fit method\n",
    "# Decay should happen once per epoch\n",
    "\n",
    "model = TwoLayerNet(n_input = train_X.shape[1], n_output = 10, hidden_layer_size = 100, reg = 1e-1)\n",
    "dataset = Dataset(train_X, train_y, val_X, val_y)\n",
    "trainer = Trainer(model, dataset, SGD(), learning_rate_decay=0.99)\n",
    "\n",
    "initial_learning_rate = trainer.learning_rate\n",
    "loss_history, train_history, val_history = trainer.fit()\n",
    "\n",
    "assert trainer.learning_rate < initial_learning_rate, \"Learning rate should've been reduced\"\n",
    "assert trainer.learning_rate > 0.5*initial_learning_rate, \"Learning rate shouldn'tve been reduced that much!\""
   ]
  },
  {
   "cell_type": "markdown",
   "metadata": {},
   "source": [
    "# Накопление импульса (Momentum SGD)\n",
    "\n",
    "Другой большой класс оптимизаций - использование более эффективных методов градиентного спуска. Мы реализуем один из них - накопление импульса (Momentum SGD).\n",
    "\n",
    "Этот метод хранит скорость движения, использует градиент для ее изменения на каждом шаге, и изменяет веса пропорционально значению скорости.\n",
    "(Физическая аналогия: Вместо скорости градиенты теперь будут задавать ускорение, но будет присутствовать сила трения.)\n",
    "\n",
    "```\n",
    "velocity = momentum * velocity - learning_rate * gradient \n",
    "w = w + velocity\n",
    "```\n",
    "\n",
    "`momentum` здесь коэффициент затухания, который тоже является гиперпараметром (к счастью, для него часто есть хорошее значение по умолчанию, типичный диапазон -- 0.8-0.99).\n",
    "\n",
    "Несколько полезных ссылок, где метод разбирается более подробно:  \n",
    "http://cs231n.github.io/neural-networks-3/#sgd  \n",
    "https://distill.pub/2017/momentum/"
   ]
  },
  {
   "cell_type": "code",
   "execution_count": 12,
   "metadata": {
    "pycharm": {
     "is_executing": false
    }
   },
   "outputs": [
    {
     "name": "stdout",
     "text": [
      "Loss: 2.321504, Train accuracy: 0.196667, val accuracy: 0.206000\n",
      "Loss: 2.305573, Train accuracy: 0.196667, val accuracy: 0.206000\n",
      "Loss: 2.315005, Train accuracy: 0.196667, val accuracy: 0.206000\n",
      "Loss: 2.249502, Train accuracy: 0.196667, val accuracy: 0.206000\n",
      "Loss: 2.255664, Train accuracy: 0.196667, val accuracy: 0.206000\n",
      "Loss: 2.300977, Train accuracy: 0.196667, val accuracy: 0.206000\n",
      "Loss: 2.243300, Train accuracy: 0.196667, val accuracy: 0.206000\n",
      "Loss: 2.259131, Train accuracy: 0.196667, val accuracy: 0.206000\n",
      "Loss: 2.240870, Train accuracy: 0.196667, val accuracy: 0.206000\n",
      "Loss: 2.256889, Train accuracy: 0.196667, val accuracy: 0.206000\n",
      "Loss: 2.250501, Train accuracy: 0.196667, val accuracy: 0.206000\n",
      "Loss: 2.305861, Train accuracy: 0.196667, val accuracy: 0.206000\n",
      "Loss: 2.215956, Train accuracy: 0.196667, val accuracy: 0.206000\n",
      "Loss: 2.277011, Train accuracy: 0.196667, val accuracy: 0.206000\n",
      "Loss: 2.266154, Train accuracy: 0.196667, val accuracy: 0.206000\n",
      "Loss: 2.247150, Train accuracy: 0.196667, val accuracy: 0.206000\n",
      "Loss: 2.248955, Train accuracy: 0.196667, val accuracy: 0.206000\n",
      "Loss: 2.205055, Train accuracy: 0.196667, val accuracy: 0.206000\n",
      "Loss: 2.180664, Train accuracy: 0.196667, val accuracy: 0.206000\n",
      "Loss: 2.308770, Train accuracy: 0.196667, val accuracy: 0.206000\n"
     ],
     "output_type": "stream"
    }
   ],
   "source": [
    "# TODO: Implement MomentumSGD.update function in optim.py\n",
    "\n",
    "model = TwoLayerNet(n_input = train_X.shape[1], n_output = 10, hidden_layer_size = 100, reg = 1e-1)\n",
    "dataset = Dataset(train_X, train_y, val_X, val_y)\n",
    "trainer = Trainer(model, dataset, MomentumSGD(), learning_rate=1e-4, learning_rate_decay=0.99)\n",
    "\n",
    "# You should see even better results than before!\n",
    "loss_history, train_history, val_history = trainer.fit()"
   ]
  },
  {
   "cell_type": "markdown",
   "metadata": {},
   "source": [
    "# Ну что, давайте уже тренировать сеть!"
   ]
  },
  {
   "cell_type": "markdown",
   "metadata": {},
   "source": [
    "## Последний тест - переобучимся (overfit) на маленьком наборе данных\n",
    "\n",
    "Хороший способ проверить, все ли реализовано корректно - переобучить сеть на маленьком наборе данных.  \n",
    "Наша модель обладает достаточной мощностью, чтобы приблизить маленький набор данных идеально, поэтому мы ожидаем, что на нем мы быстро дойдем до 100% точности на тренировочном наборе. \n",
    "\n",
    "Если этого не происходит, то где-то была допущена ошибка!"
   ]
  },
  {
   "cell_type": "code",
   "execution_count": 13,
   "metadata": {
    "pycharm": {
     "is_executing": false
    }
   },
   "outputs": [
    {
     "name": "stdout",
     "text": [
      "Loss: 2.351618, Train accuracy: 0.266667, val accuracy: 0.066667\nLoss: 2.318467, Train accuracy: 0.266667, val accuracy: 0.066667\nLoss: 2.291136, Train accuracy: 0.200000, val accuracy: 0.066667\nLoss: 2.341864, Train accuracy: 0.200000, val accuracy: 0.133333",
      "\nLoss: 2.302463, Train accuracy: 0.200000, val accuracy: 0.066667\nLoss: 2.319034, Train accuracy: 0.200000, val accuracy: 0.066667\nLoss: 2.235521, Train accuracy: 0.200000, val accuracy: 0.066667\nLoss: 2.170412, Train accuracy: 0.266667, val accuracy: 0.000000\nLoss: 2.144598, Train accuracy: 0.400000, val accuracy: 0.000000\n",
      "Loss: 2.000302, Train accuracy: 0.400000, val accuracy: 0.000000\nLoss: 1.842682, Train accuracy: 0.400000, val accuracy: 0.000000\nLoss: 2.238035, Train accuracy: 0.400000, val accuracy: 0.000000\nLoss: 1.616099, Train accuracy: 0.400000, val accuracy: 0.000000\nLoss: 2.203432, Train accuracy: 0.400000, val accuracy: 0.000000\nLoss: 1.902569, Train accuracy: 0.400000, val accuracy: 0.000000\nLoss: 1.637197, Train accuracy: 0.400000, val accuracy: 0.000000\nLoss: 2.003430, Train accuracy: 0.400000, val accuracy: 0.000000\nLoss: 1.394373, Train accuracy: 0.400000, val accuracy: 0.000000\nLoss: 1.492224, Train accuracy: 0.400000, val accuracy: 0.000000\nLoss: 1.807273, Train accuracy: 0.466667, val accuracy: 0.000000",
      "\nLoss: 2.022181, Train accuracy: 0.400000, val accuracy: 0.000000\nLoss: 1.577554, Train accuracy: 0.466667, val accuracy: 0.000000\nLoss: 1.866207, Train accuracy: 0.400000, val accuracy: 0.066667\nLoss: 1.908744, Train accuracy: 0.466667, val accuracy: 0.066667\nLoss: 1.159965, Train accuracy: 0.466667, val accuracy: 0.066667\n",
      "Loss: 2.083456, Train accuracy: 0.466667, val accuracy: 0.066667\nLoss: 1.642604, Train accuracy: 0.466667, val accuracy: 0.066667\nLoss: 2.125341, Train accuracy: 0.466667, val accuracy: 0.066667\nLoss: 1.993812, Train accuracy: 0.466667, val accuracy: 0.066667\nLoss: 1.343383, Train accuracy: 0.466667, val accuracy: 0.000000\nLoss: 1.837536, Train accuracy: 0.600000, val accuracy: 0.000000\nLoss: 1.609352, Train accuracy: 0.533333, val accuracy: 0.000000\nLoss: 1.314199, Train accuracy: 0.533333, val accuracy: 0.066667\nLoss: 1.798446, Train accuracy: 0.600000, val accuracy: 0.066667",
      "\nLoss: 1.659346, Train accuracy: 0.600000, val accuracy: 0.000000\nLoss: 1.933030, Train accuracy: 0.600000, val accuracy: 0.000000\nLoss: 1.083985, Train accuracy: 0.600000, val accuracy: 0.066667\nLoss: 1.491238, Train accuracy: 0.600000, val accuracy: 0.066667\n",
      "Loss: 1.731915, Train accuracy: 0.600000, val accuracy: 0.000000\nLoss: 1.788430, Train accuracy: 0.666667, val accuracy: 0.000000\nLoss: 2.425725, Train accuracy: 0.666667, val accuracy: 0.000000\nLoss: 1.017317, Train accuracy: 0.666667, val accuracy: 0.000000\nLoss: 1.558682, Train accuracy: 0.666667, val accuracy: 0.000000\nLoss: 1.728849, Train accuracy: 0.666667, val accuracy: 0.000000\nLoss: 1.452117, Train accuracy: 0.666667, val accuracy: 0.066667\nLoss: 1.861666, Train accuracy: 0.666667, val accuracy: 0.000000\nLoss: 1.198709, Train accuracy: 0.733333, val accuracy: 0.000000\nLoss: 1.657933, Train accuracy: 0.733333, val accuracy: 0.000000",
      "\nLoss: 1.558153, Train accuracy: 0.733333, val accuracy: 0.000000\nLoss: 1.384778, Train accuracy: 0.800000, val accuracy: 0.133333\n",
      "Loss: 1.625072, Train accuracy: 0.733333, val accuracy: 0.000000\nLoss: 1.549759, Train accuracy: 0.800000, val accuracy: 0.000000\nLoss: 1.617123, Train accuracy: 0.800000, val accuracy: 0.000000\nLoss: 1.739898, Train accuracy: 0.800000, val accuracy: 0.000000\nLoss: 1.417619, Train accuracy: 0.800000, val accuracy: 0.000000\nLoss: 1.533807, Train accuracy: 0.800000, val accuracy: 0.133333\nLoss: 1.011228, Train accuracy: 0.733333, val accuracy: 0.000000\nLoss: 0.936917, Train accuracy: 0.800000, val accuracy: 0.000000\nLoss: 1.408309, Train accuracy: 0.800000, val accuracy: 0.000000\n",
      "Loss: 1.036403, Train accuracy: 0.800000, val accuracy: 0.066667\nLoss: 1.865917, Train accuracy: 0.800000, val accuracy: 0.000000\nLoss: 1.592674, Train accuracy: 0.800000, val accuracy: 0.000000\nLoss: 1.323204, Train accuracy: 0.800000, val accuracy: 0.000000\nLoss: 1.334323, Train accuracy: 0.800000, val accuracy: 0.000000\n",
      "Loss: 1.938533, Train accuracy: 0.800000, val accuracy: 0.066667\nLoss: 1.275339, Train accuracy: 0.800000, val accuracy: 0.066667\nLoss: 1.253094, Train accuracy: 0.800000, val accuracy: 0.000000\nLoss: 0.897369, Train accuracy: 0.800000, val accuracy: 0.000000\nLoss: 1.138715, Train accuracy: 0.800000, val accuracy: 0.000000\nLoss: 1.601602, Train accuracy: 0.800000, val accuracy: 0.066667\nLoss: 1.564878, Train accuracy: 0.800000, val accuracy: 0.000000\nLoss: 1.059963, Train accuracy: 0.800000, val accuracy: 0.000000\nLoss: 1.502392, Train accuracy: 0.800000, val accuracy: 0.000000\nLoss: 1.681630, Train accuracy: 0.800000, val accuracy: 0.000000",
      "\nLoss: 1.228649, Train accuracy: 0.800000, val accuracy: 0.000000\nLoss: 1.550753, Train accuracy: 0.800000, val accuracy: 0.000000\nLoss: 1.786590, Train accuracy: 0.800000, val accuracy: 0.000000\nLoss: 1.226258, Train accuracy: 0.800000, val accuracy: 0.066667\n",
      "Loss: 0.957398, Train accuracy: 0.800000, val accuracy: 0.066667\nLoss: 1.442177, Train accuracy: 0.800000, val accuracy: 0.066667\nLoss: 1.435122, Train accuracy: 0.800000, val accuracy: 0.000000\nLoss: 1.106624, Train accuracy: 0.800000, val accuracy: 0.000000\nLoss: 1.231636, Train accuracy: 0.800000, val accuracy: 0.000000\nLoss: 1.457298, Train accuracy: 0.800000, val accuracy: 0.000000\nLoss: 0.921533, Train accuracy: 0.800000, val accuracy: 0.000000\nLoss: 1.184508, Train accuracy: 0.866667, val accuracy: 0.000000\nLoss: 1.222668, Train accuracy: 0.800000, val accuracy: 0.000000\nLoss: 0.944016, Train accuracy: 0.866667, val accuracy: 0.000000\nLoss: 1.295791, Train accuracy: 0.866667, val accuracy: 0.000000",
      "\nLoss: 1.478291, Train accuracy: 0.866667, val accuracy: 0.000000\nLoss: 1.294451, Train accuracy: 0.866667, val accuracy: 0.000000\nLoss: 1.375229, Train accuracy: 0.866667, val accuracy: 0.000000\nLoss: 1.415711, Train accuracy: 0.933333, val accuracy: 0.000000\nLoss: 1.056241, Train accuracy: 0.933333, val accuracy: 0.000000\n",
      "Loss: 1.258684, Train accuracy: 1.000000, val accuracy: 0.000000\nLoss: 1.131832, Train accuracy: 0.933333, val accuracy: 0.000000\nLoss: 1.053068, Train accuracy: 1.000000, val accuracy: 0.000000\nLoss: 1.455916, Train accuracy: 1.000000, val accuracy: 0.000000\nLoss: 1.092817, Train accuracy: 1.000000, val accuracy: 0.000000\nLoss: 1.412114, Train accuracy: 1.000000, val accuracy: 0.066667\nLoss: 1.628100, Train accuracy: 1.000000, val accuracy: 0.066667\nLoss: 1.204674, Train accuracy: 1.000000, val accuracy: 0.000000\nLoss: 1.558378, Train accuracy: 1.000000, val accuracy: 0.000000\n",
      "Loss: 1.095451, Train accuracy: 1.000000, val accuracy: 0.066667\nLoss: 1.280285, Train accuracy: 1.000000, val accuracy: 0.000000\nLoss: 1.103288, Train accuracy: 1.000000, val accuracy: 0.000000\nLoss: 1.309781, Train accuracy: 1.000000, val accuracy: 0.000000\nLoss: 1.369390, Train accuracy: 1.000000, val accuracy: 0.000000\n",
      "Loss: 1.174232, Train accuracy: 1.000000, val accuracy: 0.000000\nLoss: 1.173103, Train accuracy: 1.000000, val accuracy: 0.000000\nLoss: 1.323319, Train accuracy: 1.000000, val accuracy: 0.066667\nLoss: 1.167392, Train accuracy: 1.000000, val accuracy: 0.000000\nLoss: 1.076201, Train accuracy: 1.000000, val accuracy: 0.066667\nLoss: 1.232961, Train accuracy: 1.000000, val accuracy: 0.000000\nLoss: 1.157558, Train accuracy: 1.000000, val accuracy: 0.000000\nLoss: 1.330180, Train accuracy: 1.000000, val accuracy: 0.066667",
      "\nLoss: 1.283642, Train accuracy: 1.000000, val accuracy: 0.000000\nLoss: 1.163123, Train accuracy: 1.000000, val accuracy: 0.000000\n",
      "Loss: 1.331565, Train accuracy: 1.000000, val accuracy: 0.000000\nLoss: 1.404167, Train accuracy: 1.000000, val accuracy: 0.000000\nLoss: 1.188150, Train accuracy: 1.000000, val accuracy: 0.000000\nLoss: 1.441295, Train accuracy: 1.000000, val accuracy: 0.066667\nLoss: 1.068600, Train accuracy: 1.000000, val accuracy: 0.000000\nLoss: 1.364755, Train accuracy: 1.000000, val accuracy: 0.000000\nLoss: 1.212599, Train accuracy: 1.000000, val accuracy: 0.000000\nLoss: 1.128207, Train accuracy: 1.000000, val accuracy: 0.066667\nLoss: 1.121540, Train accuracy: 1.000000, val accuracy: 0.000000\nLoss: 1.024118, Train accuracy: 1.000000, val accuracy: 0.066667",
      "\nLoss: 0.939308, Train accuracy: 1.000000, val accuracy: 0.000000\nLoss: 1.422518, Train accuracy: 1.000000, val accuracy: 0.000000\nLoss: 1.381779, Train accuracy: 1.000000, val accuracy: 0.066667\nLoss: 1.321666, Train accuracy: 1.000000, val accuracy: 0.066667\n",
      "Loss: 1.138238, Train accuracy: 1.000000, val accuracy: 0.066667\nLoss: 1.135899, Train accuracy: 1.000000, val accuracy: 0.000000\nLoss: 1.166023, Train accuracy: 1.000000, val accuracy: 0.000000\nLoss: 1.297579, Train accuracy: 1.000000, val accuracy: 0.000000\nLoss: 1.133557, Train accuracy: 1.000000, val accuracy: 0.000000\nLoss: 1.212286, Train accuracy: 1.000000, val accuracy: 0.000000\nLoss: 1.282922, Train accuracy: 1.000000, val accuracy: 0.000000\nLoss: 1.026195, Train accuracy: 1.000000, val accuracy: 0.000000\nLoss: 1.237881, Train accuracy: 1.000000, val accuracy: 0.000000\nLoss: 1.280440, Train accuracy: 1.000000, val accuracy: 0.066667\nLoss: 1.126200, Train accuracy: 1.000000, val accuracy: 0.000000",
      "\nLoss: 1.263944, Train accuracy: 1.000000, val accuracy: 0.000000\nLoss: 1.136968, Train accuracy: 1.000000, val accuracy: 0.000000\nLoss: 1.371337, Train accuracy: 1.000000, val accuracy: 0.000000\n",
      "Loss: 1.229599, Train accuracy: 1.000000, val accuracy: 0.000000\nLoss: 1.242691, Train accuracy: 1.000000, val accuracy: 0.000000\nLoss: 1.263285, Train accuracy: 1.000000, val accuracy: 0.000000\nLoss: 1.274737, Train accuracy: 1.000000, val accuracy: 0.000000\n"
     ],
     "output_type": "stream"
    }
   ],
   "source": [
    "data_size = 15\n",
    "model = TwoLayerNet(n_input = train_X.shape[1], n_output = 10, hidden_layer_size = 100, reg = 1e-1)\n",
    "dataset = Dataset(train_X[:data_size], train_y[:data_size], val_X[:data_size], val_y[:data_size])\n",
    "trainer = Trainer(model, dataset, SGD(), learning_rate=1e-1, num_epochs=150, batch_size=5)\n",
    "\n",
    "# You should expect this to reach 1.0 training accuracy \n",
    "loss_history, train_history, val_history = trainer.fit()"
   ]
  },
  {
   "cell_type": "markdown",
   "metadata": {},
   "source": [
    "Теперь найдем гипепараметры, для которых этот процесс сходится быстрее.\n",
    "Если все реализовано корректно, то существуют параметры, при которых процесс сходится в **20** эпох или еще быстрее.\n",
    "Найдите их!"
   ]
  },
  {
   "cell_type": "code",
   "execution_count": 14,
   "metadata": {
    "pycharm": {
     "is_executing": false
    }
   },
   "outputs": [
    {
     "name": "stdout",
     "text": [
      "Loss: 2.300068, Train accuracy: 0.200000, val accuracy: 0.133333\n",
      "Loss: 2.276836, Train accuracy: 0.200000, val accuracy: 0.133333\nLoss: 2.117664, Train accuracy: 0.200000, val accuracy: 0.133333\nLoss: 2.180422, Train accuracy: 0.333333, val accuracy: 0.066667\n",
      "Loss: 2.134509, Train accuracy: 0.400000, val accuracy: 0.000000\n",
      "Loss: 1.621801, Train accuracy: 0.333333, val accuracy: 0.066667\nLoss: 1.425448, Train accuracy: 0.466667, val accuracy: 0.066667\nLoss: 1.636224, Train accuracy: 0.466667, val accuracy: 0.000000\nLoss: 2.011408, Train accuracy: 0.600000, val accuracy: 0.066667\nLoss: 1.664447, Train accuracy: 0.733333, val accuracy: 0.066667\nLoss: 1.110580, Train accuracy: 0.800000, val accuracy: 0.000000\n",
      "Loss: 0.871699, Train accuracy: 0.866667, val accuracy: 0.133333\nLoss: 0.474149, Train accuracy: 1.000000, val accuracy: 0.000000",
      "\n",
      "Loss: 0.380918, Train accuracy: 0.866667, val accuracy: 0.000000\nLoss: 0.475413, Train accuracy: 0.933333, val accuracy: 0.000000",
      "\nLoss: 0.565075, Train accuracy: 0.800000, val accuracy: 0.000000\nLoss: 0.949572, Train accuracy: 0.800000, val accuracy: 0.066667\nLoss: 35.699035, Train accuracy: 0.800000, val accuracy: 0.066667\nLoss: 7.852720, Train accuracy: 0.533333, val accuracy: 0.133333\nLoss: 2.218685, Train accuracy: 0.533333, val accuracy: 0.066667\n"
     ],
     "output_type": "stream"
    }
   ],
   "source": [
    "# Now, tweak some hyper parameters and make it train to 1.0 accuracy in 20 epochs or less\n",
    "\n",
    "model = TwoLayerNet(n_input = train_X.shape[1], n_output = 10, hidden_layer_size = 100, reg = 1e-2)\n",
    "dataset = Dataset(train_X[:data_size], train_y[:data_size], val_X[:data_size], val_y[:data_size])\n",
    "# TODO: Change any hyperparamers or optimizators to reach training accuracy in 20 epochs\n",
    "trainer = Trainer(model, dataset, MomentumSGD(), learning_rate=1e-1, num_epochs=20, batch_size=5)\n",
    "\n",
    "loss_history, train_history, val_history = trainer.fit()"
   ]
  },
  {
   "cell_type": "markdown",
   "metadata": {},
   "source": [
    "# Итак, основное мероприятие!\n",
    "\n",
    "Натренируйте лучшую нейросеть! Можно добавлять и изменять параметры, менять количество нейронов в слоях сети и как угодно экспериментировать. \n",
    "\n",
    "Добейтесь точности лучше **60%** на validation set."
   ]
  },
  {
   "cell_type": "code",
   "execution_count": 15,
   "metadata": {
    "scrolled": true,
    "pycharm": {
     "is_executing": false
    }
   },
   "outputs": [
    {
     "name": "stdout",
     "text": [
      "Loss: 2.219790, Train accuracy: 0.196667, val accuracy: 0.206000\n",
      "Loss: 2.088635, Train accuracy: 0.264000, val accuracy: 0.267000\n",
      "Loss: 1.783668, Train accuracy: 0.440667, val accuracy: 0.444000\n",
      "Loss: 1.576490, Train accuracy: 0.552889, val accuracy: 0.539000\n",
      "Loss: 1.234472, Train accuracy: 0.617222, val accuracy: 0.600000\n",
      "Loss: 1.224784, Train accuracy: 0.650000, val accuracy: 0.621000\n",
      "Loss: 1.311690, Train accuracy: 0.677444, val accuracy: 0.644000\n",
      "Loss: 1.220182, Train accuracy: 0.701556, val accuracy: 0.654000\n",
      "Loss: 1.085442, Train accuracy: 0.698556, val accuracy: 0.671000\n",
      "Loss: 1.282627, Train accuracy: 0.748000, val accuracy: 0.694000\n",
      "Loss: 1.099136, Train accuracy: 0.721333, val accuracy: 0.686000\n",
      "Loss: 1.174271, Train accuracy: 0.760778, val accuracy: 0.706000\n",
      "Loss: 1.239753, Train accuracy: 0.765111, val accuracy: 0.712000\n",
      "Loss: 1.047013, Train accuracy: 0.784000, val accuracy: 0.728000\n",
      "Loss: 0.915551, Train accuracy: 0.775222, val accuracy: 0.704000\n",
      "Loss: 1.081031, Train accuracy: 0.802000, val accuracy: 0.739000\n",
      "Loss: 1.021305, Train accuracy: 0.754889, val accuracy: 0.685000\n",
      "Loss: 1.093791, Train accuracy: 0.783000, val accuracy: 0.708000\n",
      "Loss: 1.113084, Train accuracy: 0.810889, val accuracy: 0.732000\n",
      "Loss: 0.906421, Train accuracy: 0.822111, val accuracy: 0.742000\nbest validation accuracy achieved: 0.742000\n"
     ],
     "output_type": "stream"
    }
   ],
   "source": [
    "# Let's train the best one-hidden-layer network we can\n",
    "\n",
    "learning_rates = 1e-1\n",
    "reg_strength = 1e-3\n",
    "learning_rate_decay = 0.99\n",
    "hidden_layer_size = 100\n",
    "num_epochs = 20\n",
    "batch_size = 200\n",
    "\n",
    "best_classifier = TwoLayerNet\n",
    "best_val_accuracy = None\n",
    "\n",
    "loss_history = []\n",
    "train_history = []\n",
    "val_history = []\n",
    "\n",
    "# TODO find the best hyperparameters to train the network\n",
    "# Don't hesitate to add new values to the arrays above, perform experiments, use any tricks you want\n",
    "# You should expect to get to at least 40% of valudation accuracy\n",
    "# Save loss/train/history of the best classifier to the variables above\n",
    "\n",
    "model = TwoLayerNet(n_input = train_X.shape[1], n_output = 10, hidden_layer_size = hidden_layer_size, reg = reg_strength)\n",
    "dataset = Dataset(train_X, train_y, val_X, val_y)\n",
    "trainer = Trainer(model, dataset, MomentumSGD(), \n",
    "                  learning_rate = learning_rates, \n",
    "                  learning_rate_decay = learning_rate_decay, \n",
    "                  num_epochs = num_epochs, \n",
    "                  batch_size = batch_size)\n",
    "\n",
    "loss_history, train_history, val_history = trainer.fit()\n",
    "best_val_accuracy = np.max(val_history)\n",
    "print('best validation accuracy achieved: %f' % best_val_accuracy)"
   ]
  },
  {
   "cell_type": "code",
   "execution_count": 16,
   "metadata": {
    "pycharm": {
     "is_executing": false
    }
   },
   "outputs": [
    {
     "data": {
      "text/plain": "[<matplotlib.lines.Line2D at 0x5784508>]"
     },
     "metadata": {},
     "output_type": "execute_result",
     "execution_count": 16
    },
    {
     "data": {
      "text/plain": "<Figure size 1080x504 with 2 Axes>",
      "image/png": "[encoded data removed]"
     },
     "metadata": {
      "needs_background": "light"
     },
     "output_type": "display_data"
    }
   ],
   "source": [
    "plt.figure(figsize=(15, 7))\n",
    "plt.subplot(211)\n",
    "plt.title(\"Loss\")\n",
    "plt.plot(loss_history)\n",
    "plt.subplot(212)\n",
    "plt.title(\"Train/validation accuracy\")\n",
    "plt.plot(train_history)\n",
    "plt.plot(val_history)"
   ]
  },
  {
   "cell_type": "markdown",
   "metadata": {},
   "source": [
    "# Как обычно, посмотрим, как наша лучшая модель работает на тестовых данных"
   ]
  },
  {
   "cell_type": "code",
   "execution_count": 17,
   "metadata": {
    "pycharm": {
     "is_executing": false
    }
   },
   "outputs": [
    {
     "name": "stdout",
     "text": [
      "Neural net test set accuracy: 0.712000\n"
     ],
     "output_type": "stream"
    }
   ],
   "source": [
    "test_pred = model.predict(test_X)\n",
    "test_accuracy = multiclass_accuracy(test_pred, test_y)\n",
    "print('Neural net test set accuracy: %f' % (test_accuracy, ))"
   ]
  }
 ],
 "metadata": {
  "kernelspec": {
   "display_name": "Python 3",
   "language": "python",
   "name": "python3"
  },
  "language_info": {
   "codemirror_mode": {
    "name": "ipython",
    "version": 3
   },
   "file_extension": ".py",
   "mimetype": "text/x-python",
   "name": "python",
   "nbconvert_exporter": "python",
   "pygments_lexer": "ipython3",
   "version": "3.7.0"
  },
  "pycharm": {
   "stem_cell": {
    "cell_type": "raw",
    "source": [],
    "metadata": {
     "collapsed": false
    }
   }
  }
 },
 "nbformat": 4,
 "nbformat_minor": 2
}